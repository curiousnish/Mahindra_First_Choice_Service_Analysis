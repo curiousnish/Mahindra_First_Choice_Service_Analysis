{
 "cells": [
  {
   "cell_type": "code",
   "execution_count": 3,
   "metadata": {},
   "outputs": [],
   "source": [
    "# Importing the libraries\n",
    "import numpy as np\n",
    "import pandas as pd\n",
    "import matplotlib.pyplot as plt\n",
    "%matplotlib notebook\n",
    "import seaborn as sns\n",
    "import os\n",
    "import pickle"
   ]
  },
  {
   "cell_type": "markdown",
   "metadata": {},
   "source": [
    "### NOTE - \n",
    "Run the following code only once at the starting of the project "
   ]
  },
  {
   "cell_type": "code",
   "execution_count": 6,
   "metadata": {},
   "outputs": [
    {
     "name": "stdout",
     "output_type": "stream",
     "text": [
      "Reading from D:\\MahindraCapstone\\data/\n",
      "Creating dataframes...\n",
      "Saving the pickled files...\n"
     ]
    }
   ],
   "source": [
    "# Importing and saving the data\n",
    "def save():\n",
    "    # Move to the main directory of the project\n",
    "    #os.chdir(\"..\")\n",
    "    file_path = os.path.abspath(os.curdir)\n",
    "    file_path_data = os.path.join(file_path, 'data/') # file path containing the dataset\n",
    "    file_names = os.listdir(file_path_data) # dataset file names\n",
    "    print('Reading from', file_path_data)\n",
    "\n",
    "    # Creating the data frames of the data present\n",
    "    print('Creating dataframes...')\n",
    "    customer_data = pd.read_excel(os.path.join(file_path_data, file_names[0]))\n",
    "    final_invoice = pd.read_csv(os.path.join(file_path_data, file_names[1]))\n",
    "    jtd = pd.read_csv(os.path.join(file_path_data, file_names[2]))\n",
    "    plant_master = pd.read_excel(os.path.join(file_path_data, file_names[4]))\n",
    "\n",
    "    # Saving the pickle files of the dataframes for fast importing of the data\n",
    "    print('Saving the pickled files...')\n",
    "    customer_data.to_pickle(os.path.join(file_path , r'pickled\\customer_data.pkl'))\n",
    "    final_invoice.to_pickle(os.path.join(file_path , r'pickled\\final_invoice.pkl'))\n",
    "    jtd.to_pickle(os.path.join(file_path , r'pickled\\jtd.pkl'))\n",
    "    plant_master.to_pickle(os.path.join(file_path , r'pickled\\plant_master.pkl'))\n",
    "\n",
    "save()"
   ]
  },
  {
   "cell_type": "code",
   "execution_count": 12,
   "metadata": {},
   "outputs": [],
   "source": [
    "# Loading the pickled data\n",
    "customer_data = pd.read_pickle(r'pickled\\customer_data.pkl')\n",
    "final_invoice = pd.read_pickle(r'pickled\\final_invoice.pkl')\n",
    "jtd = pd.read_pickle(r'pickled\\jtd.pkl')\n",
    "plant_master = pd.read_pickle(r'pickled/plant_master.pkl')"
   ]
  },
  {
   "cell_type": "code",
   "execution_count": 14,
   "metadata": {},
   "outputs": [
    {
     "data": {
      "text/html": [
       "<div>\n",
       "<style scoped>\n",
       "    .dataframe tbody tr th:only-of-type {\n",
       "        vertical-align: middle;\n",
       "    }\n",
       "\n",
       "    .dataframe tbody tr th {\n",
       "        vertical-align: top;\n",
       "    }\n",
       "\n",
       "    .dataframe thead th {\n",
       "        text-align: right;\n",
       "    }\n",
       "</style>\n",
       "<table border=\"1\" class=\"dataframe\">\n",
       "  <thead>\n",
       "    <tr style=\"text-align: right;\">\n",
       "      <th></th>\n",
       "      <th>Business Partner</th>\n",
       "      <th>Customer No.</th>\n",
       "      <th>Partner Type</th>\n",
       "      <th>Data Origin</th>\n",
       "      <th>Title</th>\n",
       "      <th>Marital Status</th>\n",
       "      <th>Occupation</th>\n",
       "      <th>Date of Birth</th>\n",
       "      <th>Death date</th>\n",
       "    </tr>\n",
       "  </thead>\n",
       "  <tbody>\n",
       "    <tr>\n",
       "      <th>0</th>\n",
       "      <td>31</td>\n",
       "      <td>1</td>\n",
       "      <td>1.0</td>\n",
       "      <td>Z001</td>\n",
       "      <td>NaN</td>\n",
       "      <td>NaN</td>\n",
       "      <td>NaN</td>\n",
       "      <td>NaN</td>\n",
       "      <td>NaT</td>\n",
       "    </tr>\n",
       "    <tr>\n",
       "      <th>1</th>\n",
       "      <td>32</td>\n",
       "      <td>2</td>\n",
       "      <td>1.0</td>\n",
       "      <td>Z005</td>\n",
       "      <td>NaN</td>\n",
       "      <td>NaN</td>\n",
       "      <td>NaN</td>\n",
       "      <td>NaN</td>\n",
       "      <td>NaT</td>\n",
       "    </tr>\n",
       "    <tr>\n",
       "      <th>2</th>\n",
       "      <td>34</td>\n",
       "      <td>4</td>\n",
       "      <td>1.0</td>\n",
       "      <td>Z005</td>\n",
       "      <td>NaN</td>\n",
       "      <td>2.0</td>\n",
       "      <td>NaN</td>\n",
       "      <td>NaN</td>\n",
       "      <td>NaT</td>\n",
       "    </tr>\n",
       "    <tr>\n",
       "      <th>3</th>\n",
       "      <td>35</td>\n",
       "      <td>5</td>\n",
       "      <td>1.0</td>\n",
       "      <td>Z005</td>\n",
       "      <td>NaN</td>\n",
       "      <td>NaN</td>\n",
       "      <td>NaN</td>\n",
       "      <td>NaN</td>\n",
       "      <td>NaT</td>\n",
       "    </tr>\n",
       "    <tr>\n",
       "      <th>4</th>\n",
       "      <td>42</td>\n",
       "      <td>7</td>\n",
       "      <td>1.0</td>\n",
       "      <td>Z008</td>\n",
       "      <td>NaN</td>\n",
       "      <td>NaN</td>\n",
       "      <td>NaN</td>\n",
       "      <td>NaN</td>\n",
       "      <td>NaT</td>\n",
       "    </tr>\n",
       "  </tbody>\n",
       "</table>\n",
       "</div>"
      ],
      "text/plain": [
       "  Business Partner Customer No.  Partner Type Data Origin  Title  \\\n",
       "0               31            1           1.0        Z001    NaN   \n",
       "1               32            2           1.0        Z005    NaN   \n",
       "2               34            4           1.0        Z005    NaN   \n",
       "3               35            5           1.0        Z005    NaN   \n",
       "4               42            7           1.0        Z008    NaN   \n",
       "\n",
       "   Marital Status  Occupation Date of Birth Death date  \n",
       "0             NaN         NaN           NaN        NaT  \n",
       "1             NaN         NaN           NaN        NaT  \n",
       "2             2.0         NaN           NaN        NaT  \n",
       "3             NaN         NaN           NaN        NaT  \n",
       "4             NaN         NaN           NaN        NaT  "
      ]
     },
     "execution_count": 14,
     "metadata": {},
     "output_type": "execute_result"
    }
   ],
   "source": [
    "customer_data.head()"
   ]
  },
  {
   "cell_type": "code",
   "execution_count": 8,
   "metadata": {},
   "outputs": [
    {
     "ename": "NameError",
     "evalue": "name 'final_invoice' is not defined",
     "output_type": "error",
     "traceback": [
      "\u001b[1;31m---------------------------------------------------------------------------\u001b[0m",
      "\u001b[1;31mNameError\u001b[0m                                 Traceback (most recent call last)",
      "\u001b[1;32m<ipython-input-8-23cd37a39468>\u001b[0m in \u001b[0;36m<module>\u001b[1;34m\u001b[0m\n\u001b[1;32m----> 1\u001b[1;33m \u001b[0mtop_50_model\u001b[0m \u001b[1;33m=\u001b[0m \u001b[0mfinal_invoice\u001b[0m\u001b[1;33m[\u001b[0m\u001b[1;33m[\u001b[0m\u001b[1;34m'Customer No.'\u001b[0m\u001b[1;33m,\u001b[0m \u001b[1;34m'Model'\u001b[0m\u001b[1;33m,\u001b[0m \u001b[1;34m'Make'\u001b[0m\u001b[1;33m]\u001b[0m\u001b[1;33m]\u001b[0m\u001b[1;33m\u001b[0m\u001b[1;33m\u001b[0m\u001b[0m\n\u001b[0m",
      "\u001b[1;31mNameError\u001b[0m: name 'final_invoice' is not defined"
     ]
    }
   ],
   "source": [
    "top_50_model = final_invoice[['Customer No.', 'Model', 'Make']]"
   ]
  },
  {
   "cell_type": "code",
   "execution_count": null,
   "metadata": {},
   "outputs": [],
   "source": []
  }
 ],
 "metadata": {
  "kernelspec": {
   "display_name": "py38-basic-ml",
   "language": "python",
   "name": "py38-basic-ml"
  },
  "language_info": {
   "codemirror_mode": {
    "name": "ipython",
    "version": 3
   },
   "file_extension": ".py",
   "mimetype": "text/x-python",
   "name": "python",
   "nbconvert_exporter": "python",
   "pygments_lexer": "ipython3",
   "version": "3.8.3"
  }
 },
 "nbformat": 4,
 "nbformat_minor": 4
}
