{
 "cells": [
  {
   "cell_type": "code",
   "execution_count": 1,
   "metadata": {},
   "outputs": [],
   "source": [
    "import pandas as pd\n",
    "import numpy as np\n",
    "import matplotlib.pyplot as plt\n",
    "%matplotlib notebook\n",
    "import seaborn as sns\n",
    "import datetime as dt"
   ]
  },
  {
   "cell_type": "code",
   "execution_count": 2,
   "metadata": {},
   "outputs": [],
   "source": [
    "final_invoice = pd.read_pickle('pickled/final_invoice.pkl')"
   ]
  },
  {
   "cell_type": "code",
   "execution_count": 3,
   "metadata": {},
   "outputs": [
    {
     "data": {
      "text/plain": [
       "Index(['Unnamed: 0', 'Amt Rcvd From Custom', 'Amt Rcvd From Ins Co',\n",
       "       'Area / Locality', 'CGST(14%)', 'CGST(2.5%)', 'CGST(6%)', 'CGST(9%)',\n",
       "       'CITY', 'Cash /Cashless Type', 'Claim No.', 'Cust Type', 'Customer No.',\n",
       "       'District', 'Expiry Date', 'Gate Pass Date', 'Gate Pass Time',\n",
       "       'IGST(12%)', 'IGST(18%)', 'IGST(28%)', 'IGST(5%)', 'Insurance Company',\n",
       "       'Invoice Date', 'Invoice No', 'Invoice Time', 'Job Card No',\n",
       "       'JobCard Date', 'JobCard Time', 'KMs Reading', 'Labour Total', 'Make',\n",
       "       'Misc Total', 'Model', 'ODN No.', 'OSL Total', 'Order Type',\n",
       "       'Outstanding Amt', 'Parts Total', 'Pin code', 'Plant', 'Plant Name1',\n",
       "       'Policy no.', 'Print Status', 'Recovrbl Exp', 'Regn No',\n",
       "       'SGST/UGST(14%)', 'SGST/UGST(2.5%)', 'SGST/UGST(6%)', 'SGST/UGST(9%)',\n",
       "       'Service Advisor Name', 'TDS amount', 'Technician Name',\n",
       "       'Total Amt Wtd Tax.', 'Total CGST', 'Total GST', 'Total IGST',\n",
       "       'Total SGST/UGST', 'Total Value', 'User ID'],\n",
       "      dtype='object')"
      ]
     },
     "execution_count": 3,
     "metadata": {},
     "output_type": "execute_result"
    }
   ],
   "source": [
    "final_invoice.columns"
   ]
  },
  {
   "cell_type": "code",
   "execution_count": 4,
   "metadata": {},
   "outputs": [],
   "source": [
    "rfm0 = final_invoice[['Customer No.', 'Invoice Date', 'Invoice Time', 'Invoice No', 'Total Amt Wtd Tax.']]"
   ]
  },
  {
   "cell_type": "code",
   "execution_count": 5,
   "metadata": {},
   "outputs": [
    {
     "name": "stderr",
     "output_type": "stream",
     "text": [
      "<ipython-input-5-225e909af387>:1: SettingWithCopyWarning: \n",
      "A value is trying to be set on a copy of a slice from a DataFrame.\n",
      "Try using .loc[row_indexer,col_indexer] = value instead\n",
      "\n",
      "See the caveats in the documentation: https://pandas.pydata.org/pandas-docs/stable/user_guide/indexing.html#returning-a-view-versus-a-copy\n",
      "  rfm0['date'] = pd.to_datetime(rfm0['Invoice Date'] + ' ' + rfm0['Invoice Time'])\n",
      "C:\\Users\\Baby\\Anaconda3\\envs\\py38-basic-ml\\lib\\site-packages\\pandas\\core\\frame.py:3990: SettingWithCopyWarning: \n",
      "A value is trying to be set on a copy of a slice from a DataFrame\n",
      "\n",
      "See the caveats in the documentation: https://pandas.pydata.org/pandas-docs/stable/user_guide/indexing.html#returning-a-view-versus-a-copy\n",
      "  return super().drop(\n"
     ]
    }
   ],
   "source": [
    "rfm0['date'] = pd.to_datetime(rfm0['Invoice Date'] + ' ' + rfm0['Invoice Time'])\n",
    "\n",
    "rfm0.drop(['Invoice Date', 'Invoice Time'], axis='columns',inplace=True)"
   ]
  },
  {
   "cell_type": "code",
   "execution_count": 6,
   "metadata": {},
   "outputs": [],
   "source": [
    "rfm0.drop_duplicates()\n",
    "\n",
    "PRESENT = dt.datetime(2016,11,1)\n",
    "\n",
    "rfm = rfm0.groupby('Customer No.').agg({'date': lambda date: (PRESENT - date.max()).days,\n",
    "                                       'Invoice No': 'count',\n",
    "                                       'Total Amt Wtd Tax.': lambda rev: rev.sum(),})\n",
    "rfm.columns = ['recency', 'frequency', \"monetary\"]\n",
    "rfm['recency'] = rfm['recency'].astype(int)\n",
    "\n",
    "rfm['r_quartile'] = pd.qcut(rfm['recency'], 4, ['1', '2', '3', '4'])  # 1 Best\n",
    "rfm['f_quartile'] = pd.cut(rfm['frequency'], 4, labels=['4', '3', '2', '1'])  # 1 Best\n",
    "rfm['m_quartile'] = pd.qcut(rfm['monetary'], 4, ['4', '3', '2', '1'])  # 1 Best\n",
    "\n",
    "rfm['RFM_score'] = rfm.r_quartile.astype(str)+ rfm.f_quartile.astype(str) + rfm.m_quartile.astype(str)"
   ]
  },
  {
   "cell_type": "code",
   "execution_count": 8,
   "metadata": {},
   "outputs": [],
   "source": [
    "rfm.columns = ['num_days','num_transactions','spent_money', 'r_quartile', 'f_quartile', 'm_quartile', 'RFM_score']"
   ]
  },
  {
   "cell_type": "code",
   "execution_count": 10,
   "metadata": {},
   "outputs": [
    {
     "data": {
      "text/html": [
       "<div>\n",
       "<style scoped>\n",
       "    .dataframe tbody tr th:only-of-type {\n",
       "        vertical-align: middle;\n",
       "    }\n",
       "\n",
       "    .dataframe tbody tr th {\n",
       "        vertical-align: top;\n",
       "    }\n",
       "\n",
       "    .dataframe thead th {\n",
       "        text-align: right;\n",
       "    }\n",
       "</style>\n",
       "<table border=\"1\" class=\"dataframe\">\n",
       "  <thead>\n",
       "    <tr style=\"text-align: right;\">\n",
       "      <th></th>\n",
       "      <th>num_days</th>\n",
       "      <th>num_transactions</th>\n",
       "      <th>spent_money</th>\n",
       "      <th>r_quartile</th>\n",
       "      <th>f_quartile</th>\n",
       "      <th>m_quartile</th>\n",
       "      <th>RFM_score</th>\n",
       "    </tr>\n",
       "    <tr>\n",
       "      <th>Customer No.</th>\n",
       "      <th></th>\n",
       "      <th></th>\n",
       "      <th></th>\n",
       "      <th></th>\n",
       "      <th></th>\n",
       "      <th></th>\n",
       "      <th></th>\n",
       "    </tr>\n",
       "  </thead>\n",
       "  <tbody>\n",
       "    <tr>\n",
       "      <th>1</th>\n",
       "      <td>1311</td>\n",
       "      <td>4</td>\n",
       "      <td>0.00</td>\n",
       "      <td>4</td>\n",
       "      <td>4</td>\n",
       "      <td>4</td>\n",
       "      <td>444</td>\n",
       "    </tr>\n",
       "    <tr>\n",
       "      <th>10</th>\n",
       "      <td>1232</td>\n",
       "      <td>5</td>\n",
       "      <td>11105.56</td>\n",
       "      <td>4</td>\n",
       "      <td>4</td>\n",
       "      <td>1</td>\n",
       "      <td>441</td>\n",
       "    </tr>\n",
       "    <tr>\n",
       "      <th>100</th>\n",
       "      <td>1510</td>\n",
       "      <td>2</td>\n",
       "      <td>20799.74</td>\n",
       "      <td>4</td>\n",
       "      <td>4</td>\n",
       "      <td>1</td>\n",
       "      <td>441</td>\n",
       "    </tr>\n",
       "    <tr>\n",
       "      <th>1000</th>\n",
       "      <td>748</td>\n",
       "      <td>6</td>\n",
       "      <td>8813.44</td>\n",
       "      <td>4</td>\n",
       "      <td>4</td>\n",
       "      <td>1</td>\n",
       "      <td>441</td>\n",
       "    </tr>\n",
       "    <tr>\n",
       "      <th>10000</th>\n",
       "      <td>436</td>\n",
       "      <td>7</td>\n",
       "      <td>1735.52</td>\n",
       "      <td>3</td>\n",
       "      <td>4</td>\n",
       "      <td>3</td>\n",
       "      <td>343</td>\n",
       "    </tr>\n",
       "  </tbody>\n",
       "</table>\n",
       "</div>"
      ],
      "text/plain": [
       "              num_days  num_transactions  spent_money r_quartile f_quartile  \\\n",
       "Customer No.                                                                  \n",
       "1                 1311                 4         0.00          4          4   \n",
       "10                1232                 5     11105.56          4          4   \n",
       "100               1510                 2     20799.74          4          4   \n",
       "1000               748                 6      8813.44          4          4   \n",
       "10000              436                 7      1735.52          3          4   \n",
       "\n",
       "             m_quartile RFM_score  \n",
       "Customer No.                       \n",
       "1                     4       444  \n",
       "10                    1       441  \n",
       "100                   1       441  \n",
       "1000                  1       441  \n",
       "10000                 3       343  "
      ]
     },
     "execution_count": 10,
     "metadata": {},
     "output_type": "execute_result"
    }
   ],
   "source": [
    "rfm.head()"
   ]
  },
  {
   "cell_type": "code",
   "execution_count": 13,
   "metadata": {},
   "outputs": [
    {
     "data": {
      "text/plain": [
       "(253484, 7)"
      ]
     },
     "execution_count": 13,
     "metadata": {},
     "output_type": "execute_result"
    }
   ],
   "source": [
    "rfm.shape"
   ]
  },
  {
   "cell_type": "code",
   "execution_count": 14,
   "metadata": {},
   "outputs": [],
   "source": [
    "rfm['avg_order_value']=rfm['spent_money']/rfm['num_transactions']"
   ]
  },
  {
   "cell_type": "code",
   "execution_count": 15,
   "metadata": {},
   "outputs": [
    {
     "data": {
      "text/html": [
       "<div>\n",
       "<style scoped>\n",
       "    .dataframe tbody tr th:only-of-type {\n",
       "        vertical-align: middle;\n",
       "    }\n",
       "\n",
       "    .dataframe tbody tr th {\n",
       "        vertical-align: top;\n",
       "    }\n",
       "\n",
       "    .dataframe thead th {\n",
       "        text-align: right;\n",
       "    }\n",
       "</style>\n",
       "<table border=\"1\" class=\"dataframe\">\n",
       "  <thead>\n",
       "    <tr style=\"text-align: right;\">\n",
       "      <th></th>\n",
       "      <th>num_days</th>\n",
       "      <th>num_transactions</th>\n",
       "      <th>spent_money</th>\n",
       "      <th>r_quartile</th>\n",
       "      <th>f_quartile</th>\n",
       "      <th>m_quartile</th>\n",
       "      <th>RFM_score</th>\n",
       "      <th>avg_order_value</th>\n",
       "    </tr>\n",
       "    <tr>\n",
       "      <th>Customer No.</th>\n",
       "      <th></th>\n",
       "      <th></th>\n",
       "      <th></th>\n",
       "      <th></th>\n",
       "      <th></th>\n",
       "      <th></th>\n",
       "      <th></th>\n",
       "      <th></th>\n",
       "    </tr>\n",
       "  </thead>\n",
       "  <tbody>\n",
       "    <tr>\n",
       "      <th>1</th>\n",
       "      <td>1311</td>\n",
       "      <td>4</td>\n",
       "      <td>0.00</td>\n",
       "      <td>4</td>\n",
       "      <td>4</td>\n",
       "      <td>4</td>\n",
       "      <td>444</td>\n",
       "      <td>0.000000</td>\n",
       "    </tr>\n",
       "    <tr>\n",
       "      <th>10</th>\n",
       "      <td>1232</td>\n",
       "      <td>5</td>\n",
       "      <td>11105.56</td>\n",
       "      <td>4</td>\n",
       "      <td>4</td>\n",
       "      <td>1</td>\n",
       "      <td>441</td>\n",
       "      <td>2221.112000</td>\n",
       "    </tr>\n",
       "    <tr>\n",
       "      <th>100</th>\n",
       "      <td>1510</td>\n",
       "      <td>2</td>\n",
       "      <td>20799.74</td>\n",
       "      <td>4</td>\n",
       "      <td>4</td>\n",
       "      <td>1</td>\n",
       "      <td>441</td>\n",
       "      <td>10399.870000</td>\n",
       "    </tr>\n",
       "    <tr>\n",
       "      <th>1000</th>\n",
       "      <td>748</td>\n",
       "      <td>6</td>\n",
       "      <td>8813.44</td>\n",
       "      <td>4</td>\n",
       "      <td>4</td>\n",
       "      <td>1</td>\n",
       "      <td>441</td>\n",
       "      <td>1468.906667</td>\n",
       "    </tr>\n",
       "    <tr>\n",
       "      <th>10000</th>\n",
       "      <td>436</td>\n",
       "      <td>7</td>\n",
       "      <td>1735.52</td>\n",
       "      <td>3</td>\n",
       "      <td>4</td>\n",
       "      <td>3</td>\n",
       "      <td>343</td>\n",
       "      <td>247.931429</td>\n",
       "    </tr>\n",
       "  </tbody>\n",
       "</table>\n",
       "</div>"
      ],
      "text/plain": [
       "              num_days  num_transactions  spent_money r_quartile f_quartile  \\\n",
       "Customer No.                                                                  \n",
       "1                 1311                 4         0.00          4          4   \n",
       "10                1232                 5     11105.56          4          4   \n",
       "100               1510                 2     20799.74          4          4   \n",
       "1000               748                 6      8813.44          4          4   \n",
       "10000              436                 7      1735.52          3          4   \n",
       "\n",
       "             m_quartile RFM_score  avg_order_value  \n",
       "Customer No.                                        \n",
       "1                     4       444         0.000000  \n",
       "10                    1       441      2221.112000  \n",
       "100                   1       441     10399.870000  \n",
       "1000                  1       441      1468.906667  \n",
       "10000                 3       343       247.931429  "
      ]
     },
     "execution_count": 15,
     "metadata": {},
     "output_type": "execute_result"
    }
   ],
   "source": [
    "rfm.head()"
   ]
  },
  {
   "cell_type": "code",
   "execution_count": 16,
   "metadata": {},
   "outputs": [
    {
     "data": {
      "text/plain": [
       "1.9421896451058054"
      ]
     },
     "execution_count": 16,
     "metadata": {},
     "output_type": "execute_result"
    }
   ],
   "source": [
    "purchase_frequency=sum(rfm['num_transactions'])/rfm.shape[0]\n",
    "purchase_frequency"
   ]
  },
  {
   "cell_type": "code",
   "execution_count": null,
   "metadata": {},
   "outputs": [],
   "source": []
  }
 ],
 "metadata": {
  "kernelspec": {
   "display_name": "py38-basic-ml",
   "language": "python",
   "name": "py38-basic-ml"
  },
  "language_info": {
   "codemirror_mode": {
    "name": "ipython",
    "version": 3
   },
   "file_extension": ".py",
   "mimetype": "text/x-python",
   "name": "python",
   "nbconvert_exporter": "python",
   "pygments_lexer": "ipython3",
   "version": "3.8.3"
  }
 },
 "nbformat": 4,
 "nbformat_minor": 4
}
